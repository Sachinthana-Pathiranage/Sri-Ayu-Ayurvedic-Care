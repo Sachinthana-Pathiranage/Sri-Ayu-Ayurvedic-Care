{
  "nbformat": 4,
  "nbformat_minor": 0,
  "metadata": {
    "colab": {
      "provenance": []
    },
    "kernelspec": {
      "name": "python3",
      "display_name": "Python 3"
    },
    "language_info": {
      "name": "python"
    }
  },
  "cells": [
    {
      "cell_type": "markdown",
      "source": [
        "XG BOOST WITHOUT TIME SPLIT"
      ],
      "metadata": {
        "id": "S-GcT45JnrOW"
      }
    },
    {
      "cell_type": "code",
      "source": [
        "import pandas as pd\n",
        "import numpy as np\n",
        "import joblib\n",
        "import xgboost as xgb\n",
        "import matplotlib.pyplot as plt\n",
        "from sklearn.model_selection import train_test_split\n",
        "from sklearn.metrics import mean_squared_error, mean_absolute_error, r2_score, confusion_matrix\n",
        "from sklearn.preprocessing import StandardScaler\n",
        "import seaborn as sns\n",
        "\n",
        "# Load dataset\n",
        "data_path = \"/content/Ayurveda Dataset.csv\"\n",
        "df = pd.read_csv(data_path, parse_dates=['Date'])\n",
        "\n",
        "df.sort_values(by='Date', inplace=True)  # Ensure chronological order\n"
      ],
      "metadata": {
        "id": "5O4CkPAodKZy"
      },
      "execution_count": null,
      "outputs": []
    },
    {
      "cell_type": "code",
      "source": [
        "# Convert 'Total_Arrivals' to numeric, removing commas\n",
        "df['Total_Arrivals'] = pd.to_numeric(df['Total_Arrivals'].str.replace(',', ''), errors='coerce')\n"
      ],
      "metadata": {
        "id": "Bo1H8oxueSDQ"
      },
      "execution_count": null,
      "outputs": []
    },
    {
      "cell_type": "code",
      "source": [
        "\n",
        "df['Lag1'] = df['Total_Arrivals'].shift(1)\n",
        "df['Lag2'] = df['Total_Arrivals'].shift(2)\n",
        "df['Rolling_Mean_12'] = df['Total_Arrivals'].rolling(window=12, min_periods=1).mean()\n",
        "df.dropna(inplace=True)  # Drop rows with NaN values after feature creation"
      ],
      "metadata": {
        "id": "o6Bl1O0ceXQI"
      },
      "execution_count": null,
      "outputs": []
    },
    {
      "cell_type": "code",
      "source": [
        "\n",
        "\n",
        "# Check for missing values in the DataFrame\n",
        "missing_values = df.isnull().sum()\n",
        "print(missing_values)\n",
        "missing_values_percentage = (df.isnull().sum() / len(df)) * 100\n",
        "missing_values_percentage\n"
      ],
      "metadata": {
        "colab": {
          "base_uri": "https://localhost:8080/",
          "height": 491
        },
        "id": "TDAtrf64kkrn",
        "outputId": "ff3bf1b2-b27f-43b4-9f15-345cc456651b"
      },
      "execution_count": null,
      "outputs": [
        {
          "output_type": "stream",
          "name": "stdout",
          "text": [
            "Date                 0\n",
            "Year                 0\n",
            "Month                0\n",
            "Total_Arrivals       0\n",
            "Ayurveda_Tourists    0\n",
            "Lag1                 0\n",
            "Lag2                 0\n",
            "Rolling_Mean_12      0\n",
            "dtype: int64\n"
          ]
        },
        {
          "output_type": "execute_result",
          "data": {
            "text/plain": [
              "Date                 0.0\n",
              "Year                 0.0\n",
              "Month                0.0\n",
              "Total_Arrivals       0.0\n",
              "Ayurveda_Tourists    0.0\n",
              "Lag1                 0.0\n",
              "Lag2                 0.0\n",
              "Rolling_Mean_12      0.0\n",
              "dtype: float64"
            ],
            "text/html": [
              "<div>\n",
              "<style scoped>\n",
              "    .dataframe tbody tr th:only-of-type {\n",
              "        vertical-align: middle;\n",
              "    }\n",
              "\n",
              "    .dataframe tbody tr th {\n",
              "        vertical-align: top;\n",
              "    }\n",
              "\n",
              "    .dataframe thead th {\n",
              "        text-align: right;\n",
              "    }\n",
              "</style>\n",
              "<table border=\"1\" class=\"dataframe\">\n",
              "  <thead>\n",
              "    <tr style=\"text-align: right;\">\n",
              "      <th></th>\n",
              "      <th>0</th>\n",
              "    </tr>\n",
              "  </thead>\n",
              "  <tbody>\n",
              "    <tr>\n",
              "      <th>Date</th>\n",
              "      <td>0.0</td>\n",
              "    </tr>\n",
              "    <tr>\n",
              "      <th>Year</th>\n",
              "      <td>0.0</td>\n",
              "    </tr>\n",
              "    <tr>\n",
              "      <th>Month</th>\n",
              "      <td>0.0</td>\n",
              "    </tr>\n",
              "    <tr>\n",
              "      <th>Total_Arrivals</th>\n",
              "      <td>0.0</td>\n",
              "    </tr>\n",
              "    <tr>\n",
              "      <th>Ayurveda_Tourists</th>\n",
              "      <td>0.0</td>\n",
              "    </tr>\n",
              "    <tr>\n",
              "      <th>Lag1</th>\n",
              "      <td>0.0</td>\n",
              "    </tr>\n",
              "    <tr>\n",
              "      <th>Lag2</th>\n",
              "      <td>0.0</td>\n",
              "    </tr>\n",
              "    <tr>\n",
              "      <th>Rolling_Mean_12</th>\n",
              "      <td>0.0</td>\n",
              "    </tr>\n",
              "  </tbody>\n",
              "</table>\n",
              "</div><br><label><b>dtype:</b> float64</label>"
            ]
          },
          "metadata": {},
          "execution_count": 110
        }
      ]
    },
    {
      "cell_type": "code",
      "source": [
        "df.head()"
      ],
      "metadata": {
        "colab": {
          "base_uri": "https://localhost:8080/",
          "height": 206
        },
        "id": "a3ysfeuKe45u",
        "outputId": "0189e69e-36a1-4aa1-dd5e-6a3df5538695"
      },
      "execution_count": null,
      "outputs": [
        {
          "output_type": "execute_result",
          "data": {
            "text/plain": [
              "        Date  Year  Month  Total_Arrivals  Ayurveda_Tourists         Lag1  \\\n",
              "2 2007-03-31  2007      3     1333.298584         210.771883  1126.969808   \n",
              "3 2007-04-30  2007      4     1605.481259         250.765090  1333.298584   \n",
              "4 2007-05-31  2007      5     1693.388378         146.351783  1605.481259   \n",
              "5 2007-06-30  2007      6     1028.730392         202.654745  1693.388378   \n",
              "6 2007-07-31  2007      7     1984.684939         146.461502  1028.730392   \n",
              "\n",
              "          Lag2  Rolling_Mean_12  \n",
              "2  1173.041803      1211.103398  \n",
              "3  1126.969808      1309.697864  \n",
              "4  1333.298584      1386.435966  \n",
              "5  1605.481259      1326.818371  \n",
              "6  1693.388378      1420.799309  "
            ],
            "text/html": [
              "\n",
              "  <div id=\"df-bf870ee1-e8f0-4b58-9d43-10ba9e3d9565\" class=\"colab-df-container\">\n",
              "    <div>\n",
              "<style scoped>\n",
              "    .dataframe tbody tr th:only-of-type {\n",
              "        vertical-align: middle;\n",
              "    }\n",
              "\n",
              "    .dataframe tbody tr th {\n",
              "        vertical-align: top;\n",
              "    }\n",
              "\n",
              "    .dataframe thead th {\n",
              "        text-align: right;\n",
              "    }\n",
              "</style>\n",
              "<table border=\"1\" class=\"dataframe\">\n",
              "  <thead>\n",
              "    <tr style=\"text-align: right;\">\n",
              "      <th></th>\n",
              "      <th>Date</th>\n",
              "      <th>Year</th>\n",
              "      <th>Month</th>\n",
              "      <th>Total_Arrivals</th>\n",
              "      <th>Ayurveda_Tourists</th>\n",
              "      <th>Lag1</th>\n",
              "      <th>Lag2</th>\n",
              "      <th>Rolling_Mean_12</th>\n",
              "    </tr>\n",
              "  </thead>\n",
              "  <tbody>\n",
              "    <tr>\n",
              "      <th>2</th>\n",
              "      <td>2007-03-31</td>\n",
              "      <td>2007</td>\n",
              "      <td>3</td>\n",
              "      <td>1333.298584</td>\n",
              "      <td>210.771883</td>\n",
              "      <td>1126.969808</td>\n",
              "      <td>1173.041803</td>\n",
              "      <td>1211.103398</td>\n",
              "    </tr>\n",
              "    <tr>\n",
              "      <th>3</th>\n",
              "      <td>2007-04-30</td>\n",
              "      <td>2007</td>\n",
              "      <td>4</td>\n",
              "      <td>1605.481259</td>\n",
              "      <td>250.765090</td>\n",
              "      <td>1333.298584</td>\n",
              "      <td>1126.969808</td>\n",
              "      <td>1309.697864</td>\n",
              "    </tr>\n",
              "    <tr>\n",
              "      <th>4</th>\n",
              "      <td>2007-05-31</td>\n",
              "      <td>2007</td>\n",
              "      <td>5</td>\n",
              "      <td>1693.388378</td>\n",
              "      <td>146.351783</td>\n",
              "      <td>1605.481259</td>\n",
              "      <td>1333.298584</td>\n",
              "      <td>1386.435966</td>\n",
              "    </tr>\n",
              "    <tr>\n",
              "      <th>5</th>\n",
              "      <td>2007-06-30</td>\n",
              "      <td>2007</td>\n",
              "      <td>6</td>\n",
              "      <td>1028.730392</td>\n",
              "      <td>202.654745</td>\n",
              "      <td>1693.388378</td>\n",
              "      <td>1605.481259</td>\n",
              "      <td>1326.818371</td>\n",
              "    </tr>\n",
              "    <tr>\n",
              "      <th>6</th>\n",
              "      <td>2007-07-31</td>\n",
              "      <td>2007</td>\n",
              "      <td>7</td>\n",
              "      <td>1984.684939</td>\n",
              "      <td>146.461502</td>\n",
              "      <td>1028.730392</td>\n",
              "      <td>1693.388378</td>\n",
              "      <td>1420.799309</td>\n",
              "    </tr>\n",
              "  </tbody>\n",
              "</table>\n",
              "</div>\n",
              "    <div class=\"colab-df-buttons\">\n",
              "\n",
              "  <div class=\"colab-df-container\">\n",
              "    <button class=\"colab-df-convert\" onclick=\"convertToInteractive('df-bf870ee1-e8f0-4b58-9d43-10ba9e3d9565')\"\n",
              "            title=\"Convert this dataframe to an interactive table.\"\n",
              "            style=\"display:none;\">\n",
              "\n",
              "  <svg xmlns=\"http://www.w3.org/2000/svg\" height=\"24px\" viewBox=\"0 -960 960 960\">\n",
              "    <path d=\"M120-120v-720h720v720H120Zm60-500h600v-160H180v160Zm220 220h160v-160H400v160Zm0 220h160v-160H400v160ZM180-400h160v-160H180v160Zm440 0h160v-160H620v160ZM180-180h160v-160H180v160Zm440 0h160v-160H620v160Z\"/>\n",
              "  </svg>\n",
              "    </button>\n",
              "\n",
              "  <style>\n",
              "    .colab-df-container {\n",
              "      display:flex;\n",
              "      gap: 12px;\n",
              "    }\n",
              "\n",
              "    .colab-df-convert {\n",
              "      background-color: #E8F0FE;\n",
              "      border: none;\n",
              "      border-radius: 50%;\n",
              "      cursor: pointer;\n",
              "      display: none;\n",
              "      fill: #1967D2;\n",
              "      height: 32px;\n",
              "      padding: 0 0 0 0;\n",
              "      width: 32px;\n",
              "    }\n",
              "\n",
              "    .colab-df-convert:hover {\n",
              "      background-color: #E2EBFA;\n",
              "      box-shadow: 0px 1px 2px rgba(60, 64, 67, 0.3), 0px 1px 3px 1px rgba(60, 64, 67, 0.15);\n",
              "      fill: #174EA6;\n",
              "    }\n",
              "\n",
              "    .colab-df-buttons div {\n",
              "      margin-bottom: 4px;\n",
              "    }\n",
              "\n",
              "    [theme=dark] .colab-df-convert {\n",
              "      background-color: #3B4455;\n",
              "      fill: #D2E3FC;\n",
              "    }\n",
              "\n",
              "    [theme=dark] .colab-df-convert:hover {\n",
              "      background-color: #434B5C;\n",
              "      box-shadow: 0px 1px 3px 1px rgba(0, 0, 0, 0.15);\n",
              "      filter: drop-shadow(0px 1px 2px rgba(0, 0, 0, 0.3));\n",
              "      fill: #FFFFFF;\n",
              "    }\n",
              "  </style>\n",
              "\n",
              "    <script>\n",
              "      const buttonEl =\n",
              "        document.querySelector('#df-bf870ee1-e8f0-4b58-9d43-10ba9e3d9565 button.colab-df-convert');\n",
              "      buttonEl.style.display =\n",
              "        google.colab.kernel.accessAllowed ? 'block' : 'none';\n",
              "\n",
              "      async function convertToInteractive(key) {\n",
              "        const element = document.querySelector('#df-bf870ee1-e8f0-4b58-9d43-10ba9e3d9565');\n",
              "        const dataTable =\n",
              "          await google.colab.kernel.invokeFunction('convertToInteractive',\n",
              "                                                    [key], {});\n",
              "        if (!dataTable) return;\n",
              "\n",
              "        const docLinkHtml = 'Like what you see? Visit the ' +\n",
              "          '<a target=\"_blank\" href=https://colab.research.google.com/notebooks/data_table.ipynb>data table notebook</a>'\n",
              "          + ' to learn more about interactive tables.';\n",
              "        element.innerHTML = '';\n",
              "        dataTable['output_type'] = 'display_data';\n",
              "        await google.colab.output.renderOutput(dataTable, element);\n",
              "        const docLink = document.createElement('div');\n",
              "        docLink.innerHTML = docLinkHtml;\n",
              "        element.appendChild(docLink);\n",
              "      }\n",
              "    </script>\n",
              "  </div>\n",
              "\n",
              "\n",
              "<div id=\"df-d28a673f-a12a-4ef1-978d-b77e781c6579\">\n",
              "  <button class=\"colab-df-quickchart\" onclick=\"quickchart('df-d28a673f-a12a-4ef1-978d-b77e781c6579')\"\n",
              "            title=\"Suggest charts\"\n",
              "            style=\"display:none;\">\n",
              "\n",
              "<svg xmlns=\"http://www.w3.org/2000/svg\" height=\"24px\"viewBox=\"0 0 24 24\"\n",
              "     width=\"24px\">\n",
              "    <g>\n",
              "        <path d=\"M19 3H5c-1.1 0-2 .9-2 2v14c0 1.1.9 2 2 2h14c1.1 0 2-.9 2-2V5c0-1.1-.9-2-2-2zM9 17H7v-7h2v7zm4 0h-2V7h2v10zm4 0h-2v-4h2v4z\"/>\n",
              "    </g>\n",
              "</svg>\n",
              "  </button>\n",
              "\n",
              "<style>\n",
              "  .colab-df-quickchart {\n",
              "      --bg-color: #E8F0FE;\n",
              "      --fill-color: #1967D2;\n",
              "      --hover-bg-color: #E2EBFA;\n",
              "      --hover-fill-color: #174EA6;\n",
              "      --disabled-fill-color: #AAA;\n",
              "      --disabled-bg-color: #DDD;\n",
              "  }\n",
              "\n",
              "  [theme=dark] .colab-df-quickchart {\n",
              "      --bg-color: #3B4455;\n",
              "      --fill-color: #D2E3FC;\n",
              "      --hover-bg-color: #434B5C;\n",
              "      --hover-fill-color: #FFFFFF;\n",
              "      --disabled-bg-color: #3B4455;\n",
              "      --disabled-fill-color: #666;\n",
              "  }\n",
              "\n",
              "  .colab-df-quickchart {\n",
              "    background-color: var(--bg-color);\n",
              "    border: none;\n",
              "    border-radius: 50%;\n",
              "    cursor: pointer;\n",
              "    display: none;\n",
              "    fill: var(--fill-color);\n",
              "    height: 32px;\n",
              "    padding: 0;\n",
              "    width: 32px;\n",
              "  }\n",
              "\n",
              "  .colab-df-quickchart:hover {\n",
              "    background-color: var(--hover-bg-color);\n",
              "    box-shadow: 0 1px 2px rgba(60, 64, 67, 0.3), 0 1px 3px 1px rgba(60, 64, 67, 0.15);\n",
              "    fill: var(--button-hover-fill-color);\n",
              "  }\n",
              "\n",
              "  .colab-df-quickchart-complete:disabled,\n",
              "  .colab-df-quickchart-complete:disabled:hover {\n",
              "    background-color: var(--disabled-bg-color);\n",
              "    fill: var(--disabled-fill-color);\n",
              "    box-shadow: none;\n",
              "  }\n",
              "\n",
              "  .colab-df-spinner {\n",
              "    border: 2px solid var(--fill-color);\n",
              "    border-color: transparent;\n",
              "    border-bottom-color: var(--fill-color);\n",
              "    animation:\n",
              "      spin 1s steps(1) infinite;\n",
              "  }\n",
              "\n",
              "  @keyframes spin {\n",
              "    0% {\n",
              "      border-color: transparent;\n",
              "      border-bottom-color: var(--fill-color);\n",
              "      border-left-color: var(--fill-color);\n",
              "    }\n",
              "    20% {\n",
              "      border-color: transparent;\n",
              "      border-left-color: var(--fill-color);\n",
              "      border-top-color: var(--fill-color);\n",
              "    }\n",
              "    30% {\n",
              "      border-color: transparent;\n",
              "      border-left-color: var(--fill-color);\n",
              "      border-top-color: var(--fill-color);\n",
              "      border-right-color: var(--fill-color);\n",
              "    }\n",
              "    40% {\n",
              "      border-color: transparent;\n",
              "      border-right-color: var(--fill-color);\n",
              "      border-top-color: var(--fill-color);\n",
              "    }\n",
              "    60% {\n",
              "      border-color: transparent;\n",
              "      border-right-color: var(--fill-color);\n",
              "    }\n",
              "    80% {\n",
              "      border-color: transparent;\n",
              "      border-right-color: var(--fill-color);\n",
              "      border-bottom-color: var(--fill-color);\n",
              "    }\n",
              "    90% {\n",
              "      border-color: transparent;\n",
              "      border-bottom-color: var(--fill-color);\n",
              "    }\n",
              "  }\n",
              "</style>\n",
              "\n",
              "  <script>\n",
              "    async function quickchart(key) {\n",
              "      const quickchartButtonEl =\n",
              "        document.querySelector('#' + key + ' button');\n",
              "      quickchartButtonEl.disabled = true;  // To prevent multiple clicks.\n",
              "      quickchartButtonEl.classList.add('colab-df-spinner');\n",
              "      try {\n",
              "        const charts = await google.colab.kernel.invokeFunction(\n",
              "            'suggestCharts', [key], {});\n",
              "      } catch (error) {\n",
              "        console.error('Error during call to suggestCharts:', error);\n",
              "      }\n",
              "      quickchartButtonEl.classList.remove('colab-df-spinner');\n",
              "      quickchartButtonEl.classList.add('colab-df-quickchart-complete');\n",
              "    }\n",
              "    (() => {\n",
              "      let quickchartButtonEl =\n",
              "        document.querySelector('#df-d28a673f-a12a-4ef1-978d-b77e781c6579 button');\n",
              "      quickchartButtonEl.style.display =\n",
              "        google.colab.kernel.accessAllowed ? 'block' : 'none';\n",
              "    })();\n",
              "  </script>\n",
              "</div>\n",
              "\n",
              "    </div>\n",
              "  </div>\n"
            ],
            "application/vnd.google.colaboratory.intrinsic+json": {
              "type": "dataframe",
              "variable_name": "df",
              "summary": "{\n  \"name\": \"df\",\n  \"rows\": 213,\n  \"fields\": [\n    {\n      \"column\": \"Date\",\n      \"properties\": {\n        \"dtype\": \"date\",\n        \"min\": \"2007-03-31 00:00:00\",\n        \"max\": \"2024-01-12 00:00:00\",\n        \"num_unique_values\": 213,\n        \"samples\": [\n          \"2007-12-31 00:00:00\",\n          \"2023-01-09 00:00:00\",\n          \"2012-09-30 00:00:00\"\n        ],\n        \"semantic_type\": \"\",\n        \"description\": \"\"\n      }\n    },\n    {\n      \"column\": \"Year\",\n      \"properties\": {\n        \"dtype\": \"number\",\n        \"std\": 5,\n        \"min\": 2007,\n        \"max\": 2024,\n        \"num_unique_values\": 18,\n        \"samples\": [\n          2007,\n          2008,\n          2015\n        ],\n        \"semantic_type\": \"\",\n        \"description\": \"\"\n      }\n    },\n    {\n      \"column\": \"Month\",\n      \"properties\": {\n        \"dtype\": \"number\",\n        \"std\": 3,\n        \"min\": 1,\n        \"max\": 12,\n        \"num_unique_values\": 12,\n        \"samples\": [\n          1,\n          12,\n          3\n        ],\n        \"semantic_type\": \"\",\n        \"description\": \"\"\n      }\n    },\n    {\n      \"column\": \"Total_Arrivals\",\n      \"properties\": {\n        \"dtype\": \"number\",\n        \"std\": 46861.71505358447,\n        \"min\": 1015.643695,\n        \"max\": 218350.0,\n        \"num_unique_values\": 210,\n        \"samples\": [\n          1561.27282,\n          1492.865802,\n          1629.225763\n        ],\n        \"semantic_type\": \"\",\n        \"description\": \"\"\n      }\n    },\n    {\n      \"column\": \"Ayurveda_Tourists\",\n      \"properties\": {\n        \"dtype\": \"number\",\n        \"std\": 313.95591309160443,\n        \"min\": 1.2214,\n        \"max\": 1834.14,\n        \"num_unique_values\": 210,\n        \"samples\": [\n          138.2693,\n          273.8445394,\n          244.6965814\n        ],\n        \"semantic_type\": \"\",\n        \"description\": \"\"\n      }\n    },\n    {\n      \"column\": \"Lag1\",\n      \"properties\": {\n        \"dtype\": \"number\",\n        \"std\": 46351.98881070633,\n        \"min\": 1015.643695,\n        \"max\": 218350.0,\n        \"num_unique_values\": 211,\n        \"samples\": [\n          1331.6151,\n          1492.865802,\n          1534.955897\n        ],\n        \"semantic_type\": \"\",\n        \"description\": \"\"\n      }\n    },\n    {\n      \"column\": \"Lag2\",\n      \"properties\": {\n        \"dtype\": \"number\",\n        \"std\": 45829.43337965164,\n        \"min\": 1015.643695,\n        \"max\": 218350.0,\n        \"num_unique_values\": 212,\n        \"samples\": [\n          1544.84511,\n          1754.836543,\n          1413.30341\n        ],\n        \"semantic_type\": \"\",\n        \"description\": \"\"\n      }\n    },\n    {\n      \"column\": \"Rolling_Mean_12\",\n      \"properties\": {\n        \"dtype\": \"number\",\n        \"std\": 39980.58049799374,\n        \"min\": 1211.1033983333334,\n        \"max\": 164066.33333333334,\n        \"num_unique_values\": 213,\n        \"samples\": [\n          1518.742133,\n          100833.5,\n          1487.09584525\n        ],\n        \"semantic_type\": \"\",\n        \"description\": \"\"\n      }\n    }\n  ]\n}"
            }
          },
          "metadata": {},
          "execution_count": 59
        }
      ]
    },
    {
      "source": [
        "# @title Month\n",
        "\n",
        "from matplotlib import pyplot as plt\n",
        "df['Month'].plot(kind='hist', bins=20, title='Month')\n",
        "plt.gca().spines[['top', 'right',]].set_visible(False)"
      ],
      "cell_type": "code",
      "execution_count": null,
      "outputs": [
        {
          "output_type": "display_data",
          "data": {
            "text/plain": [
              "<Figure size 640x480 with 1 Axes>"
            ],
            "image/png": "[encoded data removed]"
          },
          "metadata": {}
        }
      ],
      "metadata": {
        "colab": {
          "base_uri": "https://localhost:8080/",
          "height": 452
        },
        "id": "5mshgA3YfPQw",
        "outputId": "9588de9a-b3e4-4bab-b5a2-c29e186cad90"
      }
    },
    {
      "source": [
        "# @title Year\n",
        "\n",
        "from matplotlib import pyplot as plt\n",
        "df['Year'].plot(kind='hist', bins=20, title='Year')\n",
        "plt.gca().spines[['top', 'right',]].set_visible(False)"
      ],
      "cell_type": "code",
      "execution_count": null,
      "outputs": [
        {
          "output_type": "display_data",
          "data": {
            "text/plain": [
              "<Figure size 640x480 with 1 Axes>"
            ],
            "image/png": "[encoded data removed]"
          },
          "metadata": {}
        }
      ],
      "metadata": {
        "colab": {
          "base_uri": "https://localhost:8080/",
          "height": 452
        },
        "id": "9MYbRqnkfHsB",
        "outputId": "df84fe1f-57b3-4e20-87e6-50fecdd54ef9"
      }
    },
    {
      "cell_type": "code",
      "source": [
        "import matplotlib.pyplot as plt\n",
        "# Calculate the correlation matrix\n",
        "correlation_matrix = df.corr()\n",
        "\n",
        "# Plotting the correlation heatmap\n",
        "plt.figure(figsize=(12, 10))\n",
        "sns.heatmap(correlation_matrix, annot=True, cmap='coolwarm', fmt=\".2f\")\n",
        "plt.title('Correlation Heatmap of Features')\n",
        "plt.show()\n"
      ],
      "metadata": {
        "colab": {
          "base_uri": "https://localhost:8080/",
          "height": 964
        },
        "id": "rmJscn2SfTCR",
        "outputId": "a9d8108c-b9c1-4616-9771-922c0b5b49a3"
      },
      "execution_count": null,
      "outputs": [
        {
          "output_type": "display_data",
          "data": {
            "text/plain": [
              "<Figure size 1200x1000 with 2 Axes>"
            ],
            "image/png": "[encoded data removed]"
          },
          "metadata": {}
        }
      ]
    },
    {
      "cell_type": "code",
      "source": [
        "# Define features and target\n",
        "features = ['Lag1', 'Lag2', 'Rolling_Mean_12', 'Month', 'Year']\n",
        "target = 'Ayurveda_Tourists'"
      ],
      "metadata": {
        "id": "Ex5_4OOXeZ79"
      },
      "execution_count": null,
      "outputs": []
    },
    {
      "cell_type": "code",
      "source": [
        "# Split data into training and testing sets\n",
        "X_train, X_test, y_train, y_test = train_test_split(df[features], df[target], test_size=0.2, random_state=42)"
      ],
      "metadata": {
        "id": "88LQWq2Reeyh"
      },
      "execution_count": null,
      "outputs": []
    },
    {
      "cell_type": "code",
      "source": [
        "# Scale features\n",
        "scaler = StandardScaler()\n",
        "X_train_scaled = scaler.fit_transform(X_train)\n",
        "X_test_scaled = scaler.transform(X_test)"
      ],
      "metadata": {
        "id": "Mmiw8N4YehYP"
      },
      "execution_count": null,
      "outputs": []
    },
    {
      "cell_type": "code",
      "source": [
        "# prompt: how to check the scaled values\n",
        "\n",
        "# Print the first few scaled training examples\n",
        "print(X_train_scaled[:5])\n",
        "\n",
        "# Print the first few scaled testing examples\n",
        "print(X_test_scaled[:5])\n"
      ],
      "metadata": {
        "colab": {
          "base_uri": "https://localhost:8080/"
        },
        "id": "7wi6mFG0lNXW",
        "outputId": "3ea1ae23-847a-43d1-9ac4-381da1557e72"
      },
      "execution_count": null,
      "outputs": [
        {
          "output_type": "stream",
          "name": "stdout",
          "text": [
            "[[-0.35620512 -0.36635617 -0.35627617  1.06075136 -0.44838392]\n",
            " [-0.36086777 -0.36056028 -0.35491415  0.47810926  0.93036766]\n",
            " [-0.36189909 -0.35927734 -0.35273293 -0.68717495  0.14250962]\n",
            " [-0.36901112 -0.35834886 -0.35745123  1.06075136  0.33947413]\n",
            " [-0.36470897 -0.35046542 -0.35296695 -1.26981706 -0.05445489]]\n",
            "[[-0.36510264 -0.35608202 -0.35325451  1.64339346 -1.63017098]\n",
            " [ 2.7871528   2.87550297  2.26993594  0.76943031  1.5212612 ]\n",
            " [-0.3575837  -0.36744275 -0.35409038  0.76943031 -0.64534843]\n",
            " [ 2.11609003  1.95035837  1.3021696  -0.978496    1.5212612 ]\n",
            " [-0.37060416 -0.36300156 -0.35312541  1.64339346  0.14250962]]\n"
          ]
        }
      ]
    },
    {
      "cell_type": "code",
      "source": [
        "# Train XGBoost model\n",
        "xgb_model = xgb.XGBRegressor(n_estimators=100, learning_rate=0.1, max_depth=5, random_state=42)\n",
        "# Pass eval_metric within eval_set\n",
        "xgb_model.fit(X_train_scaled, y_train, eval_set=[(X_train_scaled, y_train), (X_test_scaled, y_test)], verbose=True)\n",
        "\n",
        "results = xgb_model.evals_result()\n",
        "# Extract loss values\n",
        "train_loss = results['validation_0']['rmse']  # Training loss (RMSE)\n",
        "val_loss = results['validation_1']['rmse']    # Validation loss (RMSE)\n",
        "\n",
        "# Print final training and validation loss\n",
        "print(f\"Final Training Loss (RMSE): {train_loss[-1]}\")\n",
        "print(f\"Final Validation Loss (RMSE): {val_loss[-1]}\")\n",
        "\n",
        "\n",
        "# Model evaluation\n",
        "y_pred = xgb_model.predict(X_test_scaled)\n",
        "mse = mean_squared_error(y_test, y_pred)\n",
        "mae = mean_absolute_error(y_test, y_pred)\n",
        "r2 = r2_score(y_test, y_pred)"
      ],
      "metadata": {
        "colab": {
          "base_uri": "https://localhost:8080/"
        },
        "id": "Ah4OWL6Eejmy",
        "outputId": "19f0ee45-f679-4520-cd2e-9901fe02fd15"
      },
      "execution_count": null,
      "outputs": [
        {
          "output_type": "stream",
          "name": "stdout",
          "text": [
            "[0]\tvalidation_0-rmse:266.01566\tvalidation_1-rmse:371.85466\n",
            "[1]\tvalidation_0-rmse:246.93073\tvalidation_1-rmse:345.40386\n",
            "[2]\tvalidation_0-rmse:229.68696\tvalidation_1-rmse:321.91188\n",
            "[3]\tvalidation_0-rmse:214.10568\tvalidation_1-rmse:301.12980\n",
            "[4]\tvalidation_0-rmse:200.02794\tvalidation_1-rmse:284.83678\n",
            "[5]\tvalidation_0-rmse:187.15924\tvalidation_1-rmse:268.57973\n",
            "[6]\tvalidation_0-rmse:175.45940\tvalidation_1-rmse:254.27104\n",
            "[7]\tvalidation_0-rmse:164.93843\tvalidation_1-rmse:240.24902\n",
            "[8]\tvalidation_0-rmse:155.33224\tvalidation_1-rmse:231.91025\n",
            "[9]\tvalidation_0-rmse:145.96706\tvalidation_1-rmse:223.34698\n",
            "[10]\tvalidation_0-rmse:137.98164\tvalidation_1-rmse:218.07270\n",
            "[11]\tvalidation_0-rmse:130.87869\tvalidation_1-rmse:213.57933\n",
            "[12]\tvalidation_0-rmse:122.91973\tvalidation_1-rmse:203.93079\n",
            "[13]\tvalidation_0-rmse:116.00769\tvalidation_1-rmse:198.57690\n",
            "[14]\tvalidation_0-rmse:109.33682\tvalidation_1-rmse:190.60784\n",
            "[15]\tvalidation_0-rmse:103.71759\tvalidation_1-rmse:185.30411\n",
            "[16]\tvalidation_0-rmse:98.05728\tvalidation_1-rmse:178.61534\n",
            "[17]\tvalidation_0-rmse:93.02241\tvalidation_1-rmse:171.84504\n",
            "[18]\tvalidation_0-rmse:88.71759\tvalidation_1-rmse:168.70073\n",
            "[19]\tvalidation_0-rmse:84.42733\tvalidation_1-rmse:163.91890\n",
            "[20]\tvalidation_0-rmse:80.92765\tvalidation_1-rmse:161.29980\n",
            "[21]\tvalidation_0-rmse:77.56447\tvalidation_1-rmse:158.90311\n",
            "[22]\tvalidation_0-rmse:74.30623\tvalidation_1-rmse:154.98895\n",
            "[23]\tvalidation_0-rmse:71.42495\tvalidation_1-rmse:151.01493\n",
            "[24]\tvalidation_0-rmse:68.85417\tvalidation_1-rmse:149.37224\n",
            "[25]\tvalidation_0-rmse:66.42562\tvalidation_1-rmse:146.38661\n",
            "[26]\tvalidation_0-rmse:64.23279\tvalidation_1-rmse:144.93478\n",
            "[27]\tvalidation_0-rmse:62.30868\tvalidation_1-rmse:143.71246\n",
            "[28]\tvalidation_0-rmse:60.39548\tvalidation_1-rmse:141.10985\n",
            "[29]\tvalidation_0-rmse:58.77252\tvalidation_1-rmse:140.08379\n",
            "[30]\tvalidation_0-rmse:57.20935\tvalidation_1-rmse:139.91232\n",
            "[31]\tvalidation_0-rmse:55.28788\tvalidation_1-rmse:137.84589\n",
            "[32]\tvalidation_0-rmse:54.00330\tvalidation_1-rmse:138.11368\n",
            "[33]\tvalidation_0-rmse:52.71790\tvalidation_1-rmse:136.60332\n",
            "[34]\tvalidation_0-rmse:51.38252\tvalidation_1-rmse:134.78360\n",
            "[35]\tvalidation_0-rmse:50.32735\tvalidation_1-rmse:134.76853\n",
            "[36]\tvalidation_0-rmse:49.27953\tvalidation_1-rmse:133.46162\n",
            "[37]\tvalidation_0-rmse:48.30635\tvalidation_1-rmse:131.97428\n",
            "[38]\tvalidation_0-rmse:47.64118\tvalidation_1-rmse:132.01759\n",
            "[39]\tvalidation_0-rmse:46.59181\tvalidation_1-rmse:130.70345\n",
            "[40]\tvalidation_0-rmse:45.71232\tvalidation_1-rmse:129.73063\n",
            "[41]\tvalidation_0-rmse:44.93534\tvalidation_1-rmse:128.84447\n",
            "[42]\tvalidation_0-rmse:43.83031\tvalidation_1-rmse:128.52265\n",
            "[43]\tvalidation_0-rmse:43.10929\tvalidation_1-rmse:127.53599\n",
            "[44]\tvalidation_0-rmse:42.15581\tvalidation_1-rmse:127.17279\n",
            "[45]\tvalidation_0-rmse:41.53300\tvalidation_1-rmse:126.26467\n",
            "[46]\tvalidation_0-rmse:40.90375\tvalidation_1-rmse:125.34859\n",
            "[47]\tvalidation_0-rmse:40.09473\tvalidation_1-rmse:125.32341\n",
            "[48]\tvalidation_0-rmse:39.62330\tvalidation_1-rmse:124.46148\n",
            "[49]\tvalidation_0-rmse:39.20866\tvalidation_1-rmse:123.72329\n",
            "[50]\tvalidation_0-rmse:38.73230\tvalidation_1-rmse:123.06055\n",
            "[51]\tvalidation_0-rmse:38.31114\tvalidation_1-rmse:122.43532\n",
            "[52]\tvalidation_0-rmse:37.59285\tvalidation_1-rmse:122.53071\n",
            "[53]\tvalidation_0-rmse:37.27482\tvalidation_1-rmse:121.98961\n",
            "[54]\tvalidation_0-rmse:36.19417\tvalidation_1-rmse:121.90021\n",
            "[55]\tvalidation_0-rmse:35.54961\tvalidation_1-rmse:121.87855\n",
            "[56]\tvalidation_0-rmse:35.20834\tvalidation_1-rmse:121.39957\n",
            "[57]\tvalidation_0-rmse:34.18234\tvalidation_1-rmse:121.42768\n",
            "[58]\tvalidation_0-rmse:33.68507\tvalidation_1-rmse:121.64209\n",
            "[59]\tvalidation_0-rmse:33.34115\tvalidation_1-rmse:120.96513\n",
            "[60]\tvalidation_0-rmse:32.37342\tvalidation_1-rmse:120.73582\n",
            "[61]\tvalidation_0-rmse:31.60155\tvalidation_1-rmse:120.64270\n",
            "[62]\tvalidation_0-rmse:30.75915\tvalidation_1-rmse:120.42862\n",
            "[63]\tvalidation_0-rmse:29.88160\tvalidation_1-rmse:120.52277\n",
            "[64]\tvalidation_0-rmse:29.57540\tvalidation_1-rmse:119.97265\n",
            "[65]\tvalidation_0-rmse:28.78732\tvalidation_1-rmse:119.91645\n",
            "[66]\tvalidation_0-rmse:28.04414\tvalidation_1-rmse:119.95647\n",
            "[67]\tvalidation_0-rmse:27.33808\tvalidation_1-rmse:119.87202\n",
            "[68]\tvalidation_0-rmse:26.69709\tvalidation_1-rmse:119.93444\n",
            "[69]\tvalidation_0-rmse:26.09352\tvalidation_1-rmse:120.25193\n",
            "[70]\tvalidation_0-rmse:25.51356\tvalidation_1-rmse:120.35355\n",
            "[71]\tvalidation_0-rmse:24.84925\tvalidation_1-rmse:120.36276\n",
            "[72]\tvalidation_0-rmse:24.67987\tvalidation_1-rmse:120.66275\n",
            "[73]\tvalidation_0-rmse:24.09756\tvalidation_1-rmse:120.77699\n",
            "[74]\tvalidation_0-rmse:23.83897\tvalidation_1-rmse:120.88006\n",
            "[75]\tvalidation_0-rmse:23.43573\tvalidation_1-rmse:120.87382\n",
            "[76]\tvalidation_0-rmse:22.82232\tvalidation_1-rmse:120.87942\n",
            "[77]\tvalidation_0-rmse:22.23634\tvalidation_1-rmse:120.98551\n",
            "[78]\tvalidation_0-rmse:21.98499\tvalidation_1-rmse:120.97740\n",
            "[79]\tvalidation_0-rmse:21.75150\tvalidation_1-rmse:121.05163\n",
            "[80]\tvalidation_0-rmse:21.28737\tvalidation_1-rmse:121.24768\n",
            "[81]\tvalidation_0-rmse:20.96009\tvalidation_1-rmse:121.21222\n",
            "[82]\tvalidation_0-rmse:20.78012\tvalidation_1-rmse:121.22303\n",
            "[83]\tvalidation_0-rmse:20.39342\tvalidation_1-rmse:121.32270\n",
            "[84]\tvalidation_0-rmse:20.23083\tvalidation_1-rmse:121.32829\n",
            "[85]\tvalidation_0-rmse:19.96983\tvalidation_1-rmse:121.22452\n",
            "[86]\tvalidation_0-rmse:19.82192\tvalidation_1-rmse:121.23506\n",
            "[87]\tvalidation_0-rmse:19.49622\tvalidation_1-rmse:121.37735\n",
            "[88]\tvalidation_0-rmse:19.32957\tvalidation_1-rmse:121.23956\n",
            "[89]\tvalidation_0-rmse:18.82057\tvalidation_1-rmse:121.31035\n",
            "[90]\tvalidation_0-rmse:18.60857\tvalidation_1-rmse:121.29513\n",
            "[91]\tvalidation_0-rmse:18.30174\tvalidation_1-rmse:121.41871\n",
            "[92]\tvalidation_0-rmse:17.99033\tvalidation_1-rmse:121.59654\n",
            "[93]\tvalidation_0-rmse:17.74878\tvalidation_1-rmse:121.67434\n",
            "[94]\tvalidation_0-rmse:17.53043\tvalidation_1-rmse:121.63547\n",
            "[95]\tvalidation_0-rmse:17.37541\tvalidation_1-rmse:121.62066\n",
            "[96]\tvalidation_0-rmse:16.80611\tvalidation_1-rmse:121.81785\n",
            "[97]\tvalidation_0-rmse:16.70482\tvalidation_1-rmse:121.99212\n",
            "[98]\tvalidation_0-rmse:16.37059\tvalidation_1-rmse:122.09423\n",
            "[99]\tvalidation_0-rmse:16.14733\tvalidation_1-rmse:122.15374\n",
            "Final Training Loss (RMSE): 16.147332925806523\n",
            "Final Validation Loss (RMSE): 122.15374032112751\n"
          ]
        }
      ]
    },
    {
      "cell_type": "code",
      "source": [
        "# Plot Training and Validation Loss Curve\n",
        "results = xgb_model.evals_result()\n",
        "plt.figure(figsize=(10, 5))\n",
        "plt.plot(train_loss, label='Train RMSE')\n",
        "plt.plot(val_loss, label='Validation RMSE')\n",
        "plt.xlabel('Epochs')\n",
        "plt.ylabel('RMSE')\n",
        "plt.title('Training and Validation Loss Curve')\n",
        "plt.legend()\n",
        "plt.show()"
      ],
      "metadata": {
        "colab": {
          "base_uri": "https://localhost:8080/",
          "height": 487
        },
        "id": "B4xEeFrZm5sS",
        "outputId": "805204ee-f298-4c23-e44d-ceb32dac560e"
      },
      "execution_count": null,
      "outputs": [
        {
          "output_type": "display_data",
          "data": {
            "text/plain": [
              "<Figure size 1000x500 with 1 Axes>"
            ],
            "image/png": "[encoded data removed]"
          },
          "metadata": {}
        }
      ]
    },
    {
      "cell_type": "markdown",
      "source": [],
      "metadata": {
        "id": "NqxxtUyUnp53"
      }
    },
    {
      "cell_type": "code",
      "source": [
        "print(f\"MSE: {mse}\")\n",
        "print(f\"MAE: {mae}\")\n",
        "print(f\"R²: {r2}\")"
      ],
      "metadata": {
        "colab": {
          "base_uri": "https://localhost:8080/"
        },
        "id": "8xAG9Uv4elv7",
        "outputId": "86ed009e-c487-484c-e549-4899822275d7"
      },
      "execution_count": null,
      "outputs": [
        {
          "output_type": "stream",
          "name": "stdout",
          "text": [
            "MSE: 14921.535045079265\n",
            "MAE: 88.51679404817256\n",
            "R²: 0.9045554104519797\n"
          ]
        }
      ]
    },
    {
      "cell_type": "code",
      "source": [
        "# Learning Curves\n",
        "\n",
        "plt.figure(figsize=(10, 5))\n",
        "plt.plot(results['validation_0']['rmse'], label='Train RMSE')\n",
        "plt.plot(results['validation_1']['rmse'], label='Test RMSE')\n",
        "plt.xlabel('Epochs')\n",
        "plt.ylabel('RMSE')\n",
        "plt.title('Learning Curve')\n",
        "plt.legend()\n",
        "plt.show()"
      ],
      "metadata": {
        "colab": {
          "base_uri": "https://localhost:8080/",
          "height": 373
        },
        "id": "J4DLv522eolR",
        "outputId": "967a248c-008e-4a5c-fa1c-61af17ce441e"
      },
      "execution_count": null,
      "outputs": [
        {
          "output_type": "display_data",
          "data": {
            "text/plain": [
              "<Figure size 1000x500 with 1 Axes>"
            ],
            "image/png": "[encoded data removed]"
          },
          "metadata": {}
        }
      ]
    },
    {
      "cell_type": "code",
      "source": [
        "# Confusion Matrix (for classification-like visualization)\n",
        "threshold = np.median(y_test)\n",
        "y_pred_binary = (y_pred >= threshold).astype(int)\n",
        "y_test_binary = (y_test >= threshold).astype(int)\n",
        "cm = confusion_matrix(y_test_binary, y_pred_binary)\n",
        "sns.heatmap(cm, annot=True, fmt='d', cmap='Blues')\n",
        "plt.xlabel('Predicted')\n",
        "plt.ylabel('Actual')\n",
        "plt.title('Confusion Matrix')\n",
        "plt.show()\n"
      ],
      "metadata": {
        "colab": {
          "base_uri": "https://localhost:8080/",
          "height": 472
        },
        "id": "SnV_SuCIerRZ",
        "outputId": "da6cecc6-127d-44c8-8f4b-c7ca13ecb5d6"
      },
      "execution_count": null,
      "outputs": [
        {
          "output_type": "display_data",
          "data": {
            "text/plain": [
              "<Figure size 640x480 with 2 Axes>"
            ],
            "image/png": "[encoded data removed]"
          },
          "metadata": {}
        }
      ]
    },
    {
      "cell_type": "code",
      "source": [
        "# Save the trained model\n",
        "joblib.dump(xgb_model, 'final_xgboost_modell.pkl')\n",
        "print(\"Model saved as final_xgboost_modell.pkl\")"
      ],
      "metadata": {
        "colab": {
          "base_uri": "https://localhost:8080/"
        },
        "id": "TGe6a3OKetra",
        "outputId": "76bfbdba-e857-4c06-99e7-547d0f711e5c"
      },
      "execution_count": null,
      "outputs": [
        {
          "output_type": "stream",
          "name": "stdout",
          "text": [
            "Model saved as final_xgboost_modell.pkl\n"
          ]
        }
      ]
    },
    {
      "cell_type": "code",
      "source": [
        "# prompt: save the updated dataset\n",
        "\n",
        "# Save the updated DataFrame\n",
        "df.to_csv('updated_dataset.csv', index=False)\n",
        "print(\"Updated dataset saved as updated_dataset.csv\")\n"
      ],
      "metadata": {
        "colab": {
          "base_uri": "https://localhost:8080/"
        },
        "id": "8M87NE50rjun",
        "outputId": "7acf5b16-71ba-483a-9d01-dbbac9b5235e"
      },
      "execution_count": null,
      "outputs": [
        {
          "output_type": "stream",
          "name": "stdout",
          "text": [
            "Updated dataset saved as updated_dataset.csv\n"
          ]
        }
      ]
    },
    {
      "cell_type": "markdown",
      "source": [
        "SARIMA"
      ],
      "metadata": {
        "id": "DUZepqH3pqyI"
      }
    },
    {
      "cell_type": "code",
      "source": [
        "from statsmodels.tsa.statespace.sarimax import SARIMAX\n",
        "from sklearn.metrics import mean_squared_error, mean_absolute_error, r2_score\n",
        "\n",
        "# Define SARIMA model (order=(p,d,q), seasonal_order=(P,D,Q,s))\n",
        "sarima_model = SARIMAX(df['Ayurveda_Tourists'], order=(1,1,1), seasonal_order=(1,1,1,12))\n",
        "sarima_result = sarima_model.fit()\n",
        "\n",
        "# Forecast for test period\n",
        "y_pred_sarima = sarima_result.predict(start=len(y_train), end=len(y_train) + len(y_test) - 1)\n",
        "\n",
        "# Evaluate SARIMA\n",
        "mse_sarima = mean_squared_error(y_test, y_pred_sarima)\n",
        "mae_sarima = mean_absolute_error(y_test, y_pred_sarima)\n",
        "r2_sarima = r2_score(y_test, y_pred_sarima)\n",
        "\n",
        "print(f\"SARIMA - MSE: {mse_sarima}, MAE: {mae_sarima}, R²: {r2_sarima}\")\n"
      ],
      "metadata": {
        "colab": {
          "base_uri": "https://localhost:8080/"
        },
        "id": "G8X2wUxqoT9Z",
        "outputId": "82c8e403-854e-41df-c051-d03d6113f63d"
      },
      "execution_count": null,
      "outputs": [
        {
          "output_type": "stream",
          "name": "stderr",
          "text": [
            "/usr/local/lib/python3.11/dist-packages/statsmodels/tsa/base/tsa_model.py:473: ValueWarning: An unsupported index was provided. As a result, forecasts cannot be generated. To use the model for forecasting, use one of the supported classes of index.\n",
            "  self._init_dates(dates, freq)\n",
            "/usr/local/lib/python3.11/dist-packages/statsmodels/tsa/base/tsa_model.py:473: ValueWarning: An unsupported index was provided. As a result, forecasts cannot be generated. To use the model for forecasting, use one of the supported classes of index.\n",
            "  self._init_dates(dates, freq)\n"
          ]
        },
        {
          "output_type": "stream",
          "name": "stdout",
          "text": [
            "SARIMA - MSE: 566760.2473045508, MAE: 590.4258645472405, R²: -2.625243583364178\n"
          ]
        }
      ]
    },
    {
      "cell_type": "code",
      "source": [
        "!pip install pmdarima\n",
        "import pmdarima as pm\n",
        "\n",
        "# Automatically find the best parameters for SARIMA\n",
        "model = pm.auto_arima(df['Ayurveda_Tourists'],\n",
        "                      seasonal=True,\n",
        "                      m=12,  # Set m to 12 for yearly seasonality (monthly data)\n",
        "                      trace=True,  # Print progress\n",
        "                      suppress_warnings=True)\n",
        "\n",
        "# Print the best SARIMA order\n",
        "print(model.summary())\n",
        "\n",
        "# Fit the model\n",
        "sarima_result = model.fit(df['Ayurveda_Tourists'])\n",
        "\n",
        "# Forecast for the test period\n",
        "y_pred_sarima = sarima_result.predict(n_periods=len(y_test))\n",
        "\n",
        "# Evaluate the model\n",
        "mse_sarima = mean_squared_error(y_test, y_pred_sarima)\n",
        "mae_sarima = mean_absolute_error(y_test, y_pred_sarima)\n",
        "r2_sarima = r2_score(y_test, y_pred_sarima)\n",
        "\n",
        "print(f\"SARIMA - MSE: {mse_sarima}, MAE: {mae_sarima}, R²: {r2_sarima}\")\n"
      ],
      "metadata": {
        "colab": {
          "base_uri": "https://localhost:8080/"
        },
        "id": "FXEmZhET2ANo",
        "outputId": "9ad7a518-bf8a-48df-f4db-6578a73c4909"
      },
      "execution_count": null,
      "outputs": [
        {
          "output_type": "stream",
          "name": "stdout",
          "text": [
            "Collecting pmdarima\n",
            "  Downloading pmdarima-2.0.4-cp311-cp311-manylinux_2_17_x86_64.manylinux2014_x86_64.manylinux_2_28_x86_64.whl.metadata (7.8 kB)\n",
            "Requirement already satisfied: joblib>=0.11 in /usr/local/lib/python3.11/dist-packages (from pmdarima) (1.4.2)\n",
            "Requirement already satisfied: Cython!=0.29.18,!=0.29.31,>=0.29 in /usr/local/lib/python3.11/dist-packages (from pmdarima) (3.0.12)\n",
            "Requirement already satisfied: numpy>=1.21.2 in /usr/local/lib/python3.11/dist-packages (from pmdarima) (1.26.4)\n",
            "Requirement already satisfied: pandas>=0.19 in /usr/local/lib/python3.11/dist-packages (from pmdarima) (2.2.2)\n",
            "Requirement already satisfied: scikit-learn>=0.22 in /usr/local/lib/python3.11/dist-packages (from pmdarima) (1.6.1)\n",
            "Requirement already satisfied: scipy>=1.3.2 in /usr/local/lib/python3.11/dist-packages (from pmdarima) (1.14.1)\n",
            "Requirement already satisfied: statsmodels>=0.13.2 in /usr/local/lib/python3.11/dist-packages (from pmdarima) (0.14.4)\n",
            "Requirement already satisfied: urllib3 in /usr/local/lib/python3.11/dist-packages (from pmdarima) (2.3.0)\n",
            "Requirement already satisfied: setuptools!=50.0.0,>=38.6.0 in /usr/local/lib/python3.11/dist-packages (from pmdarima) (75.1.0)\n",
            "Requirement already satisfied: packaging>=17.1 in /usr/local/lib/python3.11/dist-packages (from pmdarima) (24.2)\n",
            "Requirement already satisfied: python-dateutil>=2.8.2 in /usr/local/lib/python3.11/dist-packages (from pandas>=0.19->pmdarima) (2.8.2)\n",
            "Requirement already satisfied: pytz>=2020.1 in /usr/local/lib/python3.11/dist-packages (from pandas>=0.19->pmdarima) (2025.1)\n",
            "Requirement already satisfied: tzdata>=2022.7 in /usr/local/lib/python3.11/dist-packages (from pandas>=0.19->pmdarima) (2025.1)\n",
            "Requirement already satisfied: threadpoolctl>=3.1.0 in /usr/local/lib/python3.11/dist-packages (from scikit-learn>=0.22->pmdarima) (3.5.0)\n",
            "Requirement already satisfied: patsy>=0.5.6 in /usr/local/lib/python3.11/dist-packages (from statsmodels>=0.13.2->pmdarima) (1.0.1)\n",
            "Requirement already satisfied: six>=1.5 in /usr/local/lib/python3.11/dist-packages (from python-dateutil>=2.8.2->pandas>=0.19->pmdarima) (1.17.0)\n",
            "Downloading pmdarima-2.0.4-cp311-cp311-manylinux_2_17_x86_64.manylinux2014_x86_64.manylinux_2_28_x86_64.whl (2.2 MB)\n",
            "\u001b[2K   \u001b[90m━━━━━━━━━━━━━━━━━━━━━━━━━━━━━━━━━━━━━━━━\u001b[0m \u001b[32m2.2/2.2 MB\u001b[0m \u001b[31m19.9 MB/s\u001b[0m eta \u001b[36m0:00:00\u001b[0m\n",
            "\u001b[?25hInstalling collected packages: pmdarima\n",
            "Successfully installed pmdarima-2.0.4\n"
          ]
        },
        {
          "output_type": "stream",
          "name": "stderr",
          "text": [
            "/usr/local/lib/python3.11/dist-packages/sklearn/utils/deprecation.py:151: FutureWarning: 'force_all_finite' was renamed to 'ensure_all_finite' in 1.6 and will be removed in 1.8.\n",
            "  warnings.warn(\n",
            "/usr/local/lib/python3.11/dist-packages/sklearn/utils/deprecation.py:151: FutureWarning: 'force_all_finite' was renamed to 'ensure_all_finite' in 1.6 and will be removed in 1.8.\n",
            "  warnings.warn(\n",
            "/usr/local/lib/python3.11/dist-packages/sklearn/utils/deprecation.py:151: FutureWarning: 'force_all_finite' was renamed to 'ensure_all_finite' in 1.6 and will be removed in 1.8.\n",
            "  warnings.warn(\n",
            "/usr/local/lib/python3.11/dist-packages/sklearn/utils/deprecation.py:151: FutureWarning: 'force_all_finite' was renamed to 'ensure_all_finite' in 1.6 and will be removed in 1.8.\n",
            "  warnings.warn(\n",
            "/usr/local/lib/python3.11/dist-packages/sklearn/utils/deprecation.py:151: FutureWarning: 'force_all_finite' was renamed to 'ensure_all_finite' in 1.6 and will be removed in 1.8.\n",
            "  warnings.warn(\n",
            "/usr/local/lib/python3.11/dist-packages/sklearn/utils/deprecation.py:151: FutureWarning: 'force_all_finite' was renamed to 'ensure_all_finite' in 1.6 and will be removed in 1.8.\n",
            "  warnings.warn(\n",
            "/usr/local/lib/python3.11/dist-packages/sklearn/utils/deprecation.py:151: FutureWarning: 'force_all_finite' was renamed to 'ensure_all_finite' in 1.6 and will be removed in 1.8.\n",
            "  warnings.warn(\n",
            "/usr/local/lib/python3.11/dist-packages/sklearn/utils/deprecation.py:151: FutureWarning: 'force_all_finite' was renamed to 'ensure_all_finite' in 1.6 and will be removed in 1.8.\n",
            "  warnings.warn(\n",
            "/usr/local/lib/python3.11/dist-packages/sklearn/utils/deprecation.py:151: FutureWarning: 'force_all_finite' was renamed to 'ensure_all_finite' in 1.6 and will be removed in 1.8.\n",
            "  warnings.warn(\n",
            "/usr/local/lib/python3.11/dist-packages/sklearn/utils/deprecation.py:151: FutureWarning: 'force_all_finite' was renamed to 'ensure_all_finite' in 1.6 and will be removed in 1.8.\n",
            "  warnings.warn(\n",
            "/usr/local/lib/python3.11/dist-packages/sklearn/utils/deprecation.py:151: FutureWarning: 'force_all_finite' was renamed to 'ensure_all_finite' in 1.6 and will be removed in 1.8.\n",
            "  warnings.warn(\n"
          ]
        },
        {
          "output_type": "stream",
          "name": "stdout",
          "text": [
            "Performing stepwise search to minimize aic\n",
            " ARIMA(2,1,2)(1,0,1)[12] intercept   : AIC=2789.938, Time=6.65 sec\n",
            " ARIMA(0,1,0)(0,0,0)[12] intercept   : AIC=2800.275, Time=0.02 sec\n"
          ]
        },
        {
          "output_type": "stream",
          "name": "stderr",
          "text": [
            "/usr/local/lib/python3.11/dist-packages/sklearn/utils/deprecation.py:151: FutureWarning: 'force_all_finite' was renamed to 'ensure_all_finite' in 1.6 and will be removed in 1.8.\n",
            "  warnings.warn(\n",
            "/usr/local/lib/python3.11/dist-packages/sklearn/utils/deprecation.py:151: FutureWarning: 'force_all_finite' was renamed to 'ensure_all_finite' in 1.6 and will be removed in 1.8.\n",
            "  warnings.warn(\n"
          ]
        },
        {
          "output_type": "stream",
          "name": "stdout",
          "text": [
            " ARIMA(1,1,0)(1,0,0)[12] intercept   : AIC=2796.527, Time=0.35 sec\n"
          ]
        },
        {
          "output_type": "stream",
          "name": "stderr",
          "text": [
            "/usr/local/lib/python3.11/dist-packages/sklearn/utils/deprecation.py:151: FutureWarning: 'force_all_finite' was renamed to 'ensure_all_finite' in 1.6 and will be removed in 1.8.\n",
            "  warnings.warn(\n"
          ]
        },
        {
          "output_type": "stream",
          "name": "stdout",
          "text": [
            " ARIMA(0,1,1)(0,0,1)[12] intercept   : AIC=2798.500, Time=0.36 sec\n",
            " ARIMA(0,1,0)(0,0,0)[12]             : AIC=2798.281, Time=0.02 sec\n"
          ]
        },
        {
          "output_type": "stream",
          "name": "stderr",
          "text": [
            "/usr/local/lib/python3.11/dist-packages/sklearn/utils/deprecation.py:151: FutureWarning: 'force_all_finite' was renamed to 'ensure_all_finite' in 1.6 and will be removed in 1.8.\n",
            "  warnings.warn(\n",
            "/usr/local/lib/python3.11/dist-packages/sklearn/utils/deprecation.py:151: FutureWarning: 'force_all_finite' was renamed to 'ensure_all_finite' in 1.6 and will be removed in 1.8.\n",
            "  warnings.warn(\n"
          ]
        },
        {
          "output_type": "stream",
          "name": "stdout",
          "text": [
            " ARIMA(2,1,2)(0,0,1)[12] intercept   : AIC=2789.123, Time=0.99 sec\n"
          ]
        },
        {
          "output_type": "stream",
          "name": "stderr",
          "text": [
            "/usr/local/lib/python3.11/dist-packages/sklearn/utils/deprecation.py:151: FutureWarning: 'force_all_finite' was renamed to 'ensure_all_finite' in 1.6 and will be removed in 1.8.\n",
            "  warnings.warn(\n"
          ]
        },
        {
          "output_type": "stream",
          "name": "stdout",
          "text": [
            " ARIMA(2,1,2)(0,0,0)[12] intercept   : AIC=2791.200, Time=0.38 sec\n"
          ]
        },
        {
          "output_type": "stream",
          "name": "stderr",
          "text": [
            "/usr/local/lib/python3.11/dist-packages/sklearn/utils/deprecation.py:151: FutureWarning: 'force_all_finite' was renamed to 'ensure_all_finite' in 1.6 and will be removed in 1.8.\n",
            "  warnings.warn(\n"
          ]
        },
        {
          "output_type": "stream",
          "name": "stdout",
          "text": [
            " ARIMA(2,1,2)(0,0,2)[12] intercept   : AIC=2789.389, Time=2.83 sec\n"
          ]
        },
        {
          "output_type": "stream",
          "name": "stderr",
          "text": [
            "/usr/local/lib/python3.11/dist-packages/sklearn/utils/deprecation.py:151: FutureWarning: 'force_all_finite' was renamed to 'ensure_all_finite' in 1.6 and will be removed in 1.8.\n",
            "  warnings.warn(\n"
          ]
        },
        {
          "output_type": "stream",
          "name": "stdout",
          "text": [
            " ARIMA(2,1,2)(1,0,0)[12] intercept   : AIC=2788.496, Time=1.13 sec\n"
          ]
        },
        {
          "output_type": "stream",
          "name": "stderr",
          "text": [
            "/usr/local/lib/python3.11/dist-packages/sklearn/utils/deprecation.py:151: FutureWarning: 'force_all_finite' was renamed to 'ensure_all_finite' in 1.6 and will be removed in 1.8.\n",
            "  warnings.warn(\n"
          ]
        },
        {
          "output_type": "stream",
          "name": "stdout",
          "text": [
            " ARIMA(2,1,2)(2,0,0)[12] intercept   : AIC=2789.442, Time=3.32 sec\n"
          ]
        },
        {
          "output_type": "stream",
          "name": "stderr",
          "text": [
            "/usr/local/lib/python3.11/dist-packages/sklearn/utils/deprecation.py:151: FutureWarning: 'force_all_finite' was renamed to 'ensure_all_finite' in 1.6 and will be removed in 1.8.\n",
            "  warnings.warn(\n"
          ]
        },
        {
          "output_type": "stream",
          "name": "stdout",
          "text": [
            " ARIMA(2,1,2)(2,0,1)[12] intercept   : AIC=2791.886, Time=6.72 sec\n"
          ]
        },
        {
          "output_type": "stream",
          "name": "stderr",
          "text": [
            "/usr/local/lib/python3.11/dist-packages/sklearn/utils/deprecation.py:151: FutureWarning: 'force_all_finite' was renamed to 'ensure_all_finite' in 1.6 and will be removed in 1.8.\n",
            "  warnings.warn(\n"
          ]
        },
        {
          "output_type": "stream",
          "name": "stdout",
          "text": [
            " ARIMA(1,1,2)(1,0,0)[12] intercept   : AIC=2791.963, Time=0.57 sec\n"
          ]
        },
        {
          "output_type": "stream",
          "name": "stderr",
          "text": [
            "/usr/local/lib/python3.11/dist-packages/sklearn/utils/deprecation.py:151: FutureWarning: 'force_all_finite' was renamed to 'ensure_all_finite' in 1.6 and will be removed in 1.8.\n",
            "  warnings.warn(\n"
          ]
        },
        {
          "output_type": "stream",
          "name": "stdout",
          "text": [
            " ARIMA(2,1,1)(1,0,0)[12] intercept   : AIC=2794.793, Time=0.94 sec\n"
          ]
        },
        {
          "output_type": "stream",
          "name": "stderr",
          "text": [
            "/usr/local/lib/python3.11/dist-packages/sklearn/utils/deprecation.py:151: FutureWarning: 'force_all_finite' was renamed to 'ensure_all_finite' in 1.6 and will be removed in 1.8.\n",
            "  warnings.warn(\n"
          ]
        },
        {
          "output_type": "stream",
          "name": "stdout",
          "text": [
            " ARIMA(3,1,2)(1,0,0)[12] intercept   : AIC=inf, Time=1.73 sec\n"
          ]
        },
        {
          "output_type": "stream",
          "name": "stderr",
          "text": [
            "/usr/local/lib/python3.11/dist-packages/sklearn/utils/deprecation.py:151: FutureWarning: 'force_all_finite' was renamed to 'ensure_all_finite' in 1.6 and will be removed in 1.8.\n",
            "  warnings.warn(\n"
          ]
        },
        {
          "output_type": "stream",
          "name": "stdout",
          "text": [
            " ARIMA(2,1,3)(1,0,0)[12] intercept   : AIC=inf, Time=1.63 sec\n"
          ]
        },
        {
          "output_type": "stream",
          "name": "stderr",
          "text": [
            "/usr/local/lib/python3.11/dist-packages/sklearn/utils/deprecation.py:151: FutureWarning: 'force_all_finite' was renamed to 'ensure_all_finite' in 1.6 and will be removed in 1.8.\n",
            "  warnings.warn(\n"
          ]
        },
        {
          "output_type": "stream",
          "name": "stdout",
          "text": [
            " ARIMA(1,1,1)(1,0,0)[12] intercept   : AIC=2795.088, Time=0.94 sec\n"
          ]
        },
        {
          "output_type": "stream",
          "name": "stderr",
          "text": [
            "/usr/local/lib/python3.11/dist-packages/sklearn/utils/deprecation.py:151: FutureWarning: 'force_all_finite' was renamed to 'ensure_all_finite' in 1.6 and will be removed in 1.8.\n",
            "  warnings.warn(\n"
          ]
        },
        {
          "output_type": "stream",
          "name": "stdout",
          "text": [
            " ARIMA(1,1,3)(1,0,0)[12] intercept   : AIC=inf, Time=1.20 sec\n"
          ]
        },
        {
          "output_type": "stream",
          "name": "stderr",
          "text": [
            "/usr/local/lib/python3.11/dist-packages/sklearn/utils/deprecation.py:151: FutureWarning: 'force_all_finite' was renamed to 'ensure_all_finite' in 1.6 and will be removed in 1.8.\n",
            "  warnings.warn(\n"
          ]
        },
        {
          "output_type": "stream",
          "name": "stdout",
          "text": [
            " ARIMA(3,1,1)(1,0,0)[12] intercept   : AIC=2769.835, Time=5.39 sec\n"
          ]
        },
        {
          "output_type": "stream",
          "name": "stderr",
          "text": [
            "/usr/local/lib/python3.11/dist-packages/sklearn/utils/deprecation.py:151: FutureWarning: 'force_all_finite' was renamed to 'ensure_all_finite' in 1.6 and will be removed in 1.8.\n",
            "  warnings.warn(\n"
          ]
        },
        {
          "output_type": "stream",
          "name": "stdout",
          "text": [
            " ARIMA(3,1,1)(0,0,0)[12] intercept   : AIC=2770.063, Time=1.19 sec\n"
          ]
        },
        {
          "output_type": "stream",
          "name": "stderr",
          "text": [
            "/usr/local/lib/python3.11/dist-packages/sklearn/utils/deprecation.py:151: FutureWarning: 'force_all_finite' was renamed to 'ensure_all_finite' in 1.6 and will be removed in 1.8.\n",
            "  warnings.warn(\n"
          ]
        },
        {
          "output_type": "stream",
          "name": "stdout",
          "text": [
            " ARIMA(3,1,1)(2,0,0)[12] intercept   : AIC=inf, Time=5.81 sec\n"
          ]
        },
        {
          "output_type": "stream",
          "name": "stderr",
          "text": [
            "/usr/local/lib/python3.11/dist-packages/sklearn/utils/deprecation.py:151: FutureWarning: 'force_all_finite' was renamed to 'ensure_all_finite' in 1.6 and will be removed in 1.8.\n",
            "  warnings.warn(\n"
          ]
        },
        {
          "output_type": "stream",
          "name": "stdout",
          "text": [
            " ARIMA(3,1,1)(1,0,1)[12] intercept   : AIC=inf, Time=2.46 sec\n"
          ]
        },
        {
          "output_type": "stream",
          "name": "stderr",
          "text": [
            "/usr/local/lib/python3.11/dist-packages/sklearn/utils/deprecation.py:151: FutureWarning: 'force_all_finite' was renamed to 'ensure_all_finite' in 1.6 and will be removed in 1.8.\n",
            "  warnings.warn(\n"
          ]
        },
        {
          "output_type": "stream",
          "name": "stdout",
          "text": [
            " ARIMA(3,1,1)(0,0,1)[12] intercept   : AIC=2769.771, Time=3.13 sec\n"
          ]
        },
        {
          "output_type": "stream",
          "name": "stderr",
          "text": [
            "/usr/local/lib/python3.11/dist-packages/sklearn/utils/deprecation.py:151: FutureWarning: 'force_all_finite' was renamed to 'ensure_all_finite' in 1.6 and will be removed in 1.8.\n",
            "  warnings.warn(\n"
          ]
        },
        {
          "output_type": "stream",
          "name": "stdout",
          "text": [
            " ARIMA(3,1,1)(0,0,2)[12] intercept   : AIC=2771.766, Time=3.49 sec\n"
          ]
        },
        {
          "output_type": "stream",
          "name": "stderr",
          "text": [
            "/usr/local/lib/python3.11/dist-packages/sklearn/utils/deprecation.py:151: FutureWarning: 'force_all_finite' was renamed to 'ensure_all_finite' in 1.6 and will be removed in 1.8.\n",
            "  warnings.warn(\n"
          ]
        },
        {
          "output_type": "stream",
          "name": "stdout",
          "text": [
            " ARIMA(3,1,1)(1,0,2)[12] intercept   : AIC=inf, Time=5.01 sec\n"
          ]
        },
        {
          "output_type": "stream",
          "name": "stderr",
          "text": [
            "/usr/local/lib/python3.11/dist-packages/sklearn/utils/deprecation.py:151: FutureWarning: 'force_all_finite' was renamed to 'ensure_all_finite' in 1.6 and will be removed in 1.8.\n",
            "  warnings.warn(\n"
          ]
        },
        {
          "output_type": "stream",
          "name": "stdout",
          "text": [
            " ARIMA(2,1,1)(0,0,1)[12] intercept   : AIC=2795.624, Time=0.89 sec\n"
          ]
        },
        {
          "output_type": "stream",
          "name": "stderr",
          "text": [
            "/usr/local/lib/python3.11/dist-packages/sklearn/utils/deprecation.py:151: FutureWarning: 'force_all_finite' was renamed to 'ensure_all_finite' in 1.6 and will be removed in 1.8.\n",
            "  warnings.warn(\n"
          ]
        },
        {
          "output_type": "stream",
          "name": "stdout",
          "text": [
            " ARIMA(3,1,0)(0,0,1)[12] intercept   : AIC=2793.466, Time=1.12 sec\n"
          ]
        },
        {
          "output_type": "stream",
          "name": "stderr",
          "text": [
            "/usr/local/lib/python3.11/dist-packages/sklearn/utils/deprecation.py:151: FutureWarning: 'force_all_finite' was renamed to 'ensure_all_finite' in 1.6 and will be removed in 1.8.\n",
            "  warnings.warn(\n"
          ]
        },
        {
          "output_type": "stream",
          "name": "stdout",
          "text": [
            " ARIMA(4,1,1)(0,0,1)[12] intercept   : AIC=2770.464, Time=3.35 sec\n"
          ]
        },
        {
          "output_type": "stream",
          "name": "stderr",
          "text": [
            "/usr/local/lib/python3.11/dist-packages/sklearn/utils/deprecation.py:151: FutureWarning: 'force_all_finite' was renamed to 'ensure_all_finite' in 1.6 and will be removed in 1.8.\n",
            "  warnings.warn(\n"
          ]
        },
        {
          "output_type": "stream",
          "name": "stdout",
          "text": [
            " ARIMA(3,1,2)(0,0,1)[12] intercept   : AIC=2770.769, Time=1.55 sec\n"
          ]
        },
        {
          "output_type": "stream",
          "name": "stderr",
          "text": [
            "/usr/local/lib/python3.11/dist-packages/sklearn/utils/deprecation.py:151: FutureWarning: 'force_all_finite' was renamed to 'ensure_all_finite' in 1.6 and will be removed in 1.8.\n",
            "  warnings.warn(\n"
          ]
        },
        {
          "output_type": "stream",
          "name": "stdout",
          "text": [
            " ARIMA(2,1,0)(0,0,1)[12] intercept   : AIC=2794.480, Time=0.39 sec\n"
          ]
        },
        {
          "output_type": "stream",
          "name": "stderr",
          "text": [
            "/usr/local/lib/python3.11/dist-packages/sklearn/utils/deprecation.py:151: FutureWarning: 'force_all_finite' was renamed to 'ensure_all_finite' in 1.6 and will be removed in 1.8.\n",
            "  warnings.warn(\n"
          ]
        },
        {
          "output_type": "stream",
          "name": "stdout",
          "text": [
            " ARIMA(4,1,0)(0,0,1)[12] intercept   : AIC=2784.500, Time=0.58 sec\n"
          ]
        },
        {
          "output_type": "stream",
          "name": "stderr",
          "text": [
            "/usr/local/lib/python3.11/dist-packages/sklearn/utils/deprecation.py:151: FutureWarning: 'force_all_finite' was renamed to 'ensure_all_finite' in 1.6 and will be removed in 1.8.\n",
            "  warnings.warn(\n"
          ]
        },
        {
          "output_type": "stream",
          "name": "stdout",
          "text": [
            " ARIMA(4,1,2)(0,0,1)[12] intercept   : AIC=2771.986, Time=1.65 sec\n"
          ]
        },
        {
          "output_type": "stream",
          "name": "stderr",
          "text": [
            "/usr/local/lib/python3.11/dist-packages/sklearn/utils/deprecation.py:151: FutureWarning: 'force_all_finite' was renamed to 'ensure_all_finite' in 1.6 and will be removed in 1.8.\n",
            "  warnings.warn(\n"
          ]
        },
        {
          "output_type": "stream",
          "name": "stdout",
          "text": [
            " ARIMA(3,1,1)(0,0,1)[12]             : AIC=2768.665, Time=1.94 sec\n"
          ]
        },
        {
          "output_type": "stream",
          "name": "stderr",
          "text": [
            "/usr/local/lib/python3.11/dist-packages/sklearn/utils/deprecation.py:151: FutureWarning: 'force_all_finite' was renamed to 'ensure_all_finite' in 1.6 and will be removed in 1.8.\n",
            "  warnings.warn(\n"
          ]
        },
        {
          "output_type": "stream",
          "name": "stdout",
          "text": [
            " ARIMA(3,1,1)(0,0,0)[12]             : AIC=2768.882, Time=0.93 sec\n"
          ]
        },
        {
          "output_type": "stream",
          "name": "stderr",
          "text": [
            "/usr/local/lib/python3.11/dist-packages/sklearn/utils/deprecation.py:151: FutureWarning: 'force_all_finite' was renamed to 'ensure_all_finite' in 1.6 and will be removed in 1.8.\n",
            "  warnings.warn(\n"
          ]
        },
        {
          "output_type": "stream",
          "name": "stdout",
          "text": [
            " ARIMA(3,1,1)(1,0,1)[12]             : AIC=2770.658, Time=4.90 sec\n"
          ]
        },
        {
          "output_type": "stream",
          "name": "stderr",
          "text": [
            "/usr/local/lib/python3.11/dist-packages/sklearn/utils/deprecation.py:151: FutureWarning: 'force_all_finite' was renamed to 'ensure_all_finite' in 1.6 and will be removed in 1.8.\n",
            "  warnings.warn(\n"
          ]
        },
        {
          "output_type": "stream",
          "name": "stdout",
          "text": [
            " ARIMA(3,1,1)(0,0,2)[12]             : AIC=2770.657, Time=4.15 sec\n"
          ]
        },
        {
          "output_type": "stream",
          "name": "stderr",
          "text": [
            "/usr/local/lib/python3.11/dist-packages/sklearn/utils/deprecation.py:151: FutureWarning: 'force_all_finite' was renamed to 'ensure_all_finite' in 1.6 and will be removed in 1.8.\n",
            "  warnings.warn(\n"
          ]
        },
        {
          "output_type": "stream",
          "name": "stdout",
          "text": [
            " ARIMA(3,1,1)(1,0,0)[12]             : AIC=2768.730, Time=0.84 sec\n"
          ]
        },
        {
          "output_type": "stream",
          "name": "stderr",
          "text": [
            "/usr/local/lib/python3.11/dist-packages/sklearn/utils/deprecation.py:151: FutureWarning: 'force_all_finite' was renamed to 'ensure_all_finite' in 1.6 and will be removed in 1.8.\n",
            "  warnings.warn(\n"
          ]
        },
        {
          "output_type": "stream",
          "name": "stdout",
          "text": [
            " ARIMA(3,1,1)(1,0,2)[12]             : AIC=inf, Time=3.28 sec\n"
          ]
        },
        {
          "output_type": "stream",
          "name": "stderr",
          "text": [
            "/usr/local/lib/python3.11/dist-packages/sklearn/utils/deprecation.py:151: FutureWarning: 'force_all_finite' was renamed to 'ensure_all_finite' in 1.6 and will be removed in 1.8.\n",
            "  warnings.warn(\n"
          ]
        },
        {
          "output_type": "stream",
          "name": "stdout",
          "text": [
            " ARIMA(2,1,1)(0,0,1)[12]             : AIC=2793.641, Time=0.57 sec\n"
          ]
        },
        {
          "output_type": "stream",
          "name": "stderr",
          "text": [
            "/usr/local/lib/python3.11/dist-packages/sklearn/utils/deprecation.py:151: FutureWarning: 'force_all_finite' was renamed to 'ensure_all_finite' in 1.6 and will be removed in 1.8.\n",
            "  warnings.warn(\n"
          ]
        },
        {
          "output_type": "stream",
          "name": "stdout",
          "text": [
            " ARIMA(3,1,0)(0,0,1)[12]             : AIC=2791.487, Time=0.32 sec\n"
          ]
        },
        {
          "output_type": "stream",
          "name": "stderr",
          "text": [
            "/usr/local/lib/python3.11/dist-packages/sklearn/utils/deprecation.py:151: FutureWarning: 'force_all_finite' was renamed to 'ensure_all_finite' in 1.6 and will be removed in 1.8.\n",
            "  warnings.warn(\n"
          ]
        },
        {
          "output_type": "stream",
          "name": "stdout",
          "text": [
            " ARIMA(4,1,1)(0,0,1)[12]             : AIC=2769.057, Time=0.90 sec\n"
          ]
        },
        {
          "output_type": "stream",
          "name": "stderr",
          "text": [
            "/usr/local/lib/python3.11/dist-packages/sklearn/utils/deprecation.py:151: FutureWarning: 'force_all_finite' was renamed to 'ensure_all_finite' in 1.6 and will be removed in 1.8.\n",
            "  warnings.warn(\n"
          ]
        },
        {
          "output_type": "stream",
          "name": "stdout",
          "text": [
            " ARIMA(3,1,2)(0,0,1)[12]             : AIC=2769.301, Time=1.09 sec\n"
          ]
        },
        {
          "output_type": "stream",
          "name": "stderr",
          "text": [
            "/usr/local/lib/python3.11/dist-packages/sklearn/utils/deprecation.py:151: FutureWarning: 'force_all_finite' was renamed to 'ensure_all_finite' in 1.6 and will be removed in 1.8.\n",
            "  warnings.warn(\n"
          ]
        },
        {
          "output_type": "stream",
          "name": "stdout",
          "text": [
            " ARIMA(2,1,0)(0,0,1)[12]             : AIC=2792.497, Time=1.09 sec\n"
          ]
        },
        {
          "output_type": "stream",
          "name": "stderr",
          "text": [
            "/usr/local/lib/python3.11/dist-packages/sklearn/utils/deprecation.py:151: FutureWarning: 'force_all_finite' was renamed to 'ensure_all_finite' in 1.6 and will be removed in 1.8.\n",
            "  warnings.warn(\n"
          ]
        },
        {
          "output_type": "stream",
          "name": "stdout",
          "text": [
            " ARIMA(2,1,2)(0,0,1)[12]             : AIC=2787.130, Time=2.02 sec\n"
          ]
        },
        {
          "output_type": "stream",
          "name": "stderr",
          "text": [
            "/usr/local/lib/python3.11/dist-packages/sklearn/utils/deprecation.py:151: FutureWarning: 'force_all_finite' was renamed to 'ensure_all_finite' in 1.6 and will be removed in 1.8.\n",
            "  warnings.warn(\n"
          ]
        },
        {
          "output_type": "stream",
          "name": "stdout",
          "text": [
            " ARIMA(4,1,0)(0,0,1)[12]             : AIC=2782.524, Time=0.39 sec\n"
          ]
        },
        {
          "output_type": "stream",
          "name": "stderr",
          "text": [
            "/usr/local/lib/python3.11/dist-packages/sklearn/utils/deprecation.py:151: FutureWarning: 'force_all_finite' was renamed to 'ensure_all_finite' in 1.6 and will be removed in 1.8.\n",
            "  warnings.warn(\n"
          ]
        },
        {
          "output_type": "stream",
          "name": "stdout",
          "text": [
            " ARIMA(4,1,2)(0,0,1)[12]             : AIC=2770.641, Time=0.93 sec\n",
            "\n",
            "Best model:  ARIMA(3,1,1)(0,0,1)[12]          \n",
            "Total fit time: 89.266 seconds\n",
            "                                     SARIMAX Results                                      \n",
            "==========================================================================================\n",
            "Dep. Variable:                                  y   No. Observations:                  213\n",
            "Model:             SARIMAX(3, 1, 1)x(0, 0, 1, 12)   Log Likelihood               -1378.332\n",
            "Date:                            Sun, 16 Mar 2025   AIC                           2768.665\n",
            "Time:                                    07:27:34   BIC                           2788.804\n",
            "Sample:                                         0   HQIC                          2776.805\n",
            "                                            - 213                                         \n",
            "Covariance Type:                              opg                                         \n",
            "==============================================================================\n",
            "                 coef    std err          z      P>|z|      [0.025      0.975]\n",
            "------------------------------------------------------------------------------\n",
            "ar.L1          0.7864      0.063     12.482      0.000       0.663       0.910\n",
            "ar.L2          0.2018      0.111      1.826      0.068      -0.015       0.418\n",
            "ar.L3         -0.3147      0.063     -4.981      0.000      -0.439      -0.191\n",
            "ma.L1         -0.9432      0.026    -36.539      0.000      -0.994      -0.893\n",
            "ma.S.L12       0.1203      0.110      1.094      0.274      -0.095       0.336\n",
            "sigma2      2.582e+04    833.558     30.981      0.000    2.42e+04    2.75e+04\n",
            "===================================================================================\n",
            "Ljung-Box (L1) (Q):                   0.16   Jarque-Bera (JB):              5896.82\n",
            "Prob(Q):                              0.69   Prob(JB):                         0.00\n",
            "Heteroskedasticity (H):               7.85   Skew:                             2.65\n",
            "Prob(H) (two-sided):                  0.00   Kurtosis:                        28.29\n",
            "===================================================================================\n",
            "\n",
            "Warnings:\n",
            "[1] Covariance matrix calculated using the outer product of gradients (complex-step).\n"
          ]
        },
        {
          "output_type": "stream",
          "name": "stderr",
          "text": [
            "/usr/local/lib/python3.11/dist-packages/sklearn/utils/deprecation.py:151: FutureWarning: 'force_all_finite' was renamed to 'ensure_all_finite' in 1.6 and will be removed in 1.8.\n",
            "  warnings.warn(\n"
          ]
        },
        {
          "output_type": "stream",
          "name": "stdout",
          "text": [
            "SARIMA - MSE: 188960.0242644134, MAE: 376.7072980953042, R²: -0.20867001299899335\n"
          ]
        },
        {
          "output_type": "stream",
          "name": "stderr",
          "text": [
            "/usr/local/lib/python3.11/dist-packages/statsmodels/tsa/base/tsa_model.py:837: ValueWarning: No supported index is available. Prediction results will be given with an integer index beginning at `start`.\n",
            "  return get_prediction_index(\n",
            "/usr/local/lib/python3.11/dist-packages/statsmodels/tsa/base/tsa_model.py:837: FutureWarning: No supported index is available. In the next version, calling this method in a model without a supported index will result in an exception.\n",
            "  return get_prediction_index(\n",
            "/usr/local/lib/python3.11/dist-packages/sklearn/utils/deprecation.py:151: FutureWarning: 'force_all_finite' was renamed to 'ensure_all_finite' in 1.6 and will be removed in 1.8.\n",
            "  warnings.warn(\n"
          ]
        }
      ]
    },
    {
      "cell_type": "code",
      "source": [
        "# Extract training log-likelihood loss\n",
        "plt.figure(figsize=(10, 5))\n",
        "plt.plot(sarima_result.llf, label=\"SARIMA Log-Likelihood\")\n",
        "plt.xlabel(\"Iterations\")\n",
        "plt.ylabel(\"Log-Likelihood\")\n",
        "plt.title(\"SARIMA Learning Curve\")\n",
        "plt.legend()\n",
        "plt.show()\n"
      ],
      "metadata": {
        "colab": {
          "base_uri": "https://localhost:8080/",
          "height": 365
        },
        "id": "o3-aMEgBomuZ",
        "outputId": "c26b6dfc-abd8-42a6-9a65-817f2dcea1f8"
      },
      "execution_count": null,
      "outputs": [
        {
          "output_type": "display_data",
          "data": {
            "text/plain": [
              "<Figure size 1000x500 with 1 Axes>"
            ],
            "image/png": "[encoded data removed]"
          },
          "metadata": {}
        }
      ]
    },
    {
      "cell_type": "markdown",
      "source": [
        "Random Forest"
      ],
      "metadata": {
        "id": "vxOEuzDzpu81"
      }
    },
    {
      "cell_type": "code",
      "source": [
        "from sklearn.ensemble import RandomForestRegressor\n",
        "\n",
        "from sklearn.metrics import mean_squared_error\n",
        "import numpy as np\n",
        "\n",
        "# Train Random Forest model\n",
        "rf_model = RandomForestRegressor(n_estimators=100, random_state=42)\n",
        "rf_model.fit(X_train_scaled, y_train)\n",
        "\n",
        "# Predict\n",
        "y_pred_rf = rf_model.predict(X_test_scaled)\n",
        "\n",
        "# Evaluate Random Forest\n",
        "mse_rf = mean_squared_error(y_test, y_pred_rf)\n",
        "mae_rf = mean_absolute_error(y_test, y_pred_rf)\n",
        "r2_rf = r2_score(y_test, y_pred_rf)\n",
        "\n",
        "print(f\"Random Forest - MSE: {mse_rf}, MAE: {mae_rf}, R²: {r2_rf}\")\n",
        "\n",
        "\n",
        "# Predict on training data\n",
        "y_pred_rf_train = rf_model.predict(X_train_scaled)\n",
        "\n",
        "# Calculate RMSE for training data\n",
        "train_rmse_rf = np.sqrt(mean_squared_error(y_train, y_pred_rf_train))\n",
        "\n",
        "# Calculate RMSE for testing data (already calculated as val_loss)\n",
        "test_rmse_rf = np.sqrt(mse_rf)\n",
        "\n",
        "print(f\"Random Forest Train RMSE: {train_rmse_rf}\")\n",
        "print(f\"Random Forest Test RMSE: {test_rmse_rf}\")"
      ],
      "metadata": {
        "colab": {
          "base_uri": "https://localhost:8080/"
        },
        "id": "PiU13pCWoc-B",
        "outputId": "85fabaf0-7b37-4b93-c2c6-91499e0497b4"
      },
      "execution_count": null,
      "outputs": [
        {
          "output_type": "stream",
          "name": "stdout",
          "text": [
            "Random Forest - MSE: 22116.89490889277, MAE: 102.64436653838601, R²: 0.8585307778134996\n",
            "Random Forest Train RMSE: 63.849027393402835\n",
            "Random Forest Test RMSE: 148.7175003450931\n"
          ]
        }
      ]
    }
  ]
}